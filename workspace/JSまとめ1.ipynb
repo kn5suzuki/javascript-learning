{
 "cells": [
  {
   "cell_type": "markdown",
   "metadata": {},
   "source": [
    "# データ型\n",
    "- プリミティブ型\n",
    "    - 単一の値を持つ\n",
    "- オブジェクト型\n",
    "    - プリミティブ型以外"
   ]
  },
  {
   "cell_type": "markdown",
   "metadata": {},
   "source": [
    "## プリミティブ型\n",
    "- 数値型\n",
    "- 長数型\n",
    "- 文字列\n",
    "- 理論値\n",
    "- undifined\n",
    "- null"
   ]
  },
  {
   "cell_type": "code",
   "execution_count": 4,
   "metadata": {
    "tags": []
   },
   "outputs": [
    {
     "name": "stdout",
     "output_type": "stream",
     "text": [
      "number\n",
      "bigint\n",
      "string\n",
      "boolean\n",
      "object\n",
      "undefined\n",
      "null\n",
      "object\n",
      "object\n"
     ]
    }
   ],
   "source": [
    "console.log(typeof(10));\n",
    "console.log(typeof(10n));\n",
    "console.log(typeof('Hello'));\n",
    "console.log(typeof(true));\n",
    "var num\n",
    "console.log(typeof(num));\n",
    "console.log(typeof(undefined))\n",
    "var num = null\n",
    "console.log(num)\n",
    "console.log(typeof(num));\n",
    "console.log(typeof(null))"
   ]
  },
  {
   "cell_type": "code",
   "execution_count": null,
   "metadata": {},
   "outputs": [],
   "source": []
  }
 ],
 "metadata": {
  "kernelspec": {
   "display_name": "JavaScript (Node.js)",
   "language": "javascript",
   "name": "javascript"
  },
  "language_info": {
   "file_extension": ".js",
   "mimetype": "application/javascript",
   "name": "javascript",
   "version": "16.20.1"
  }
 },
 "nbformat": 4,
 "nbformat_minor": 4
}
