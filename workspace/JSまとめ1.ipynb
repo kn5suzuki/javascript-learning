{
 "cells": [
  {
   "cell_type": "markdown",
   "metadata": {
    "tags": []
   },
   "source": [
    "# 概要"
   ]
  },
  {
   "cell_type": "markdown",
   "metadata": {},
   "source": [
    "# 予約語\n",
    "- ECMAScriptで定義されている\n",
    "    - 変数名や関数名には使用できない\n",
    "- ES2020の場合\n",
    "    - await, break, case, catch, class, const, continue, debugger, default, delete, do, else, enum, export, extends, false, finally, for, function, if, import, in, instanceof, new, null, return, super, switch, this, throw, true, try, typeof, var, void, while, with, yield\n",
    "- strict mode\n",
    "    - let, static, implements, interface, package, private, protected, public"
   ]
  },
  {
   "cell_type": "code",
   "execution_count": 8,
   "metadata": {
    "tags": []
   },
   "outputs": [
    {
     "ename": "SyntaxError",
     "evalue": "Unexpected token 'if'",
     "execution_count": 8,
     "output_type": "error",
     "traceback": [
      "evalmachine.<anonymous>:1",
      "let if = 10;",
      "    ^^",
      "",
      "SyntaxError: Unexpected token 'if'",
      "    at new Script (node:vm:100:7)",
      "    at createScript (node:vm:265:10)",
      "    at Object.runInThisContext (node:vm:313:10)",
      "    at run ([eval]:1020:15)",
      "    at onRunRequest ([eval]:864:18)",
      "    at onMessage ([eval]:828:13)",
      "    at process.emit (node:events:513:28)",
      "    at emit (node:internal/child_process:946:14)",
      "    at processTicksAndRejections (node:internal/process/task_queues:84:21)"
     ]
    }
   ],
   "source": [
    "let if = 10;　//予約語は変数名には使えない"
   ]
  },
  {
   "cell_type": "markdown",
   "metadata": {},
   "source": [
    "# データ型\n",
    "- プリミティブ型：単一の値を持つ\n",
    "    - 数値型\n",
    "    - 長数型 (ES2020~)\n",
    "    - 文字列\n",
    "    - 理論値\n",
    "    - undifined\n",
    "    - null\n",
    "    - シンボル　(ES2015~)：作成するたびに新しいユニークな値ができる\n",
    "- オブジェクト型：プリミティブ型以外\n",
    "    - オブジェクト\n",
    "    - 配列\n",
    "    - 関数\n",
    "    - 日時\n",
    "    - 正規表記\n",
    "    - JSON\n",
    "    - ラッパーオブジェクト：undefinedとnullを除いたプリミティブ型に対して用意されている\n",
    "        - プリミティブ型に対してラッパーで定義されているメソッドを使うと自動的に変換される"
   ]
  },
  {
   "cell_type": "markdown",
   "metadata": {},
   "source": [
    "## プリミティブ型"
   ]
  },
  {
   "cell_type": "code",
   "execution_count": 1,
   "metadata": {
    "tags": []
   },
   "outputs": [
    {
     "name": "stdout",
     "output_type": "stream",
     "text": [
      "number\n",
      "bigint\n",
      "string\n",
      "boolean\n"
     ]
    }
   ],
   "source": [
    "console.log(typeof(10)); //number\n",
    "console.log(typeof(10n)); //longint\n",
    "console.log(typeof('Hello')); //string\n",
    "console.log(typeof(true)); //boolean"
   ]
  },
  {
   "cell_type": "code",
   "execution_count": 14,
   "metadata": {},
   "outputs": [
    {
     "name": "stdout",
     "output_type": "stream",
     "text": [
      "undefined\n",
      "undefined\n"
     ]
    }
   ],
   "source": [
    "var num\n",
    "console.log(typeof(num)); //object\n",
    "console.log(typeof(undefined)) //undifined"
   ]
  },
  {
   "cell_type": "code",
   "execution_count": 4,
   "metadata": {
    "tags": []
   },
   "outputs": [
    {
     "name": "stdout",
     "output_type": "stream",
     "text": [
      "null\n",
      "object\n",
      "object\n"
     ]
    }
   ],
   "source": [
    "var num = null\n",
    "console.log(num)\n",
    "console.log(typeof(num));\n",
    "console.log(typeof(null))"
   ]
  },
  {
   "cell_type": "code",
   "execution_count": 7,
   "metadata": {
    "tags": []
   },
   "outputs": [
    {
     "name": "stdout",
     "output_type": "stream",
     "text": [
      "symbol\n",
      "false\n"
     ]
    }
   ],
   "source": [
    "let s1 = Symbol();\n",
    "let s2 = Symbol();\n",
    "console.log(typeof(s1))\n",
    "console.log(s1 === s2);"
   ]
  },
  {
   "cell_type": "markdown",
   "metadata": {},
   "source": [
    "### 数値型"
   ]
  },
  {
   "cell_type": "markdown",
   "metadata": {},
   "source": [
    "- 浮動小数点数"
   ]
  },
  {
   "cell_type": "code",
   "execution_count": 22,
   "metadata": {
    "tags": []
   },
   "outputs": [
    {
     "name": "stdout",
     "output_type": "stream",
     "text": [
      "3.14\n",
      "3140\n"
     ]
    }
   ],
   "source": [
    "console.log(3.14)\n",
    "console.log(3.14e3)"
   ]
  },
  {
   "cell_type": "markdown",
   "metadata": {},
   "source": [
    "- 数値型では2進数や8進数を扱える"
   ]
  },
  {
   "cell_type": "code",
   "execution_count": 9,
   "metadata": {
    "tags": []
   },
   "outputs": [
    {
     "name": "stdout",
     "output_type": "stream",
     "text": [
      "2\n",
      "8\n",
      "16\n",
      "8\n"
     ]
    }
   ],
   "source": [
    "console.log(0b10)\n",
    "console.log(0o10)\n",
    "console.log(0x10)\n",
    "console.log(010) //8進数になるがstrictモードではエラー"
   ]
  },
  {
   "cell_type": "markdown",
   "metadata": {},
   "source": [
    "- NaNやInfinityは数値型"
   ]
  },
  {
   "cell_type": "code",
   "execution_count": 17,
   "metadata": {
    "tags": []
   },
   "outputs": [
    {
     "name": "stdout",
     "output_type": "stream",
     "text": [
      "NaN\n",
      "number\n",
      "Infinity\n",
      "number\n"
     ]
    }
   ],
   "source": [
    "console.log(NaN);\n",
    "console.log(typeof(NaN));\n",
    "console.log(Infinity);\n",
    "console.log(typeof(Infinity));"
   ]
  },
  {
   "cell_type": "code",
   "execution_count": 19,
   "metadata": {
    "tags": []
   },
   "outputs": [
    {
     "name": "stdout",
     "output_type": "stream",
     "text": [
      "NaN\n",
      "Infinity\n"
     ]
    }
   ],
   "source": [
    "console.log(NaN + 1);\n",
    "console.log(Infinity + 1);"
   ]
  },
  {
   "cell_type": "markdown",
   "metadata": {},
   "source": [
    "### 長数型"
   ]
  },
  {
   "cell_type": "code",
   "execution_count": 41,
   "metadata": {
    "tags": []
   },
   "outputs": [
    {
     "name": "stdout",
     "output_type": "stream",
     "text": [
      "2n\n",
      "8n\n",
      "16n\n"
     ]
    }
   ],
   "source": [
    "console.log(0b10n)\n",
    "console.log(0o10n)\n",
    "console.log(0x10n)"
   ]
  },
  {
   "cell_type": "markdown",
   "metadata": {},
   "source": [
    "### 論理値"
   ]
  },
  {
   "cell_type": "markdown",
   "metadata": {},
   "source": [
    "- falseとみなされる値\n",
    "    - false, 0, -0, 0n, \"\", null, undefined, NaN"
   ]
  },
  {
   "cell_type": "code",
   "execution_count": 21,
   "metadata": {
    "tags": []
   },
   "outputs": [
    {
     "name": "stdout",
     "output_type": "stream",
     "text": [
      "false\n"
     ]
    }
   ],
   "source": [
    "if (0) {\n",
    "  console.log(\"true\");\n",
    "} else {\n",
    "  console.log(\"false\");\n",
    "}"
   ]
  },
  {
   "cell_type": "markdown",
   "metadata": {},
   "source": [
    "## オブジェクト型"
   ]
  },
  {
   "cell_type": "code",
   "execution_count": 1,
   "metadata": {
    "tags": []
   },
   "outputs": [],
   "source": [
    "const myArray = new Array(1, 2, 3, 4, 5);\n",
    "\n",
    "function f(){};\n",
    "\n",
    "const currentDate = new Date();\n",
    "\n",
    "const regexPattern = /^([a-zA-Z0-9_-]+)$/;\n",
    "\n",
    "const jsonData = {\n",
    "  name: \"John\",\n",
    "  age: 30,\n",
    "  hobbies: [\"reading\", \"coding\", \"hiking\"],\n",
    "  isEmployed: true\n",
    "};"
   ]
  },
  {
   "cell_type": "code",
   "execution_count": 2,
   "metadata": {
    "tags": []
   },
   "outputs": [
    {
     "name": "stdout",
     "output_type": "stream",
     "text": [
      "object\n",
      "function\n",
      "object\n",
      "object\n",
      "object\n"
     ]
    }
   ],
   "source": [
    "console.log(typeof(myArray))\n",
    "console.log(typeof(f))\n",
    "console.log(typeof(currentDate))\n",
    "console.log(typeof(regexPattern))\n",
    "console.log(typeof(jsonData));"
   ]
  },
  {
   "cell_type": "code",
   "execution_count": 3,
   "metadata": {
    "tags": []
   },
   "outputs": [
    {
     "name": "stdout",
     "output_type": "stream",
     "text": [
      "[object Array]\n",
      "[object Function]\n",
      "[object Date]\n",
      "[object RegExp]\n",
      "[object Object]\n"
     ]
    }
   ],
   "source": [
    "// 詳細な情報\n",
    "console.log(Object.prototype.toString.call(myArray));\n",
    "console.log(Object.prototype.toString.call(f));\n",
    "console.log(Object.prototype.toString.call(currentDate));\n",
    "console.log(Object.prototype.toString.call(regexPattern));\n",
    "console.log(Object.prototype.toString.call(jsonData));"
   ]
  },
  {
   "cell_type": "markdown",
   "metadata": {},
   "source": [
    "### オブジェクト"
   ]
  },
  {
   "cell_type": "code",
   "execution_count": 2,
   "metadata": {
    "tags": []
   },
   "outputs": [],
   "source": [
    "let user = {\n",
    "    name:\"太郎\",\n",
    "    age:22,\n",
    "    address:\"東京\",\n",
    "    hobby:[\"サッカー\", \"カラオケ\"],\n",
    "    getAge:function(){\n",
    "        return this.age;\n",
    "    }\n",
    "}"
   ]
  },
  {
   "cell_type": "code",
   "execution_count": 4,
   "metadata": {
    "tags": []
   },
   "outputs": [
    {
     "name": "stdout",
     "output_type": "stream",
     "text": [
      "太郎\n",
      "太郎\n",
      "22\n"
     ]
    }
   ],
   "source": [
    "console.log(user.name);\n",
    "console.log(user['name']);\n",
    "console.log(user.getAge());"
   ]
  },
  {
   "cell_type": "code",
   "execution_count": null,
   "metadata": {},
   "outputs": [],
   "source": []
  },
  {
   "cell_type": "markdown",
   "metadata": {},
   "source": [
    "### Numberオブジェクト"
   ]
  },
  {
   "cell_type": "code",
   "execution_count": 2,
   "metadata": {
    "tags": []
   },
   "outputs": [
    {
     "name": "stdout",
     "output_type": "stream",
     "text": [
      "10\n",
      "[Number: 10]\n",
      "10\n",
      "object\n",
      "true\n",
      "false\n"
     ]
    }
   ],
   "source": [
    "let num = 10;\n",
    "let numObj = new Number(num);\n",
    "let numNotObj = Number(num) //new　をつけないとプリミティブ型となる\n",
    "console.log(num);\n",
    "console.log(numObj);\n",
    "console.log(numNotObj);\n",
    "console.log(typeof(numObj));\n",
    "console.log(num == numObj);\n",
    "console.log(num === numObj);"
   ]
  },
  {
   "cell_type": "markdown",
   "metadata": {},
   "source": [
    "- 静的プロパティ"
   ]
  },
  {
   "cell_type": "code",
   "execution_count": 5,
   "metadata": {
    "tags": []
   },
   "outputs": [
    {
     "name": "stdout",
     "output_type": "stream",
     "text": [
      "9007199254740991\n",
      "-9007199254740991\n",
      "1.7976931348623157e+308\n",
      "5e-324\n",
      "NaN\n",
      "Infinity\n",
      "-Infinity\n"
     ]
    }
   ],
   "source": [
    "console.log(Number.MAX_SAFE_INTEGER);\n",
    "console.log(Number.MIN_SAFE_INTEGER);\n",
    "console.log(Number.MAX_VALUE);\n",
    "console.log(Number.MIN_VALUE);\n",
    "console.log(Number.NaN);\n",
    "console.log(Number.POSITIVE_INFINITY);\n",
    "console.log(Number.NEGATIVE_INFINITY);"
   ]
  },
  {
   "cell_type": "markdown",
   "metadata": {},
   "source": [
    "### 型変換"
   ]
  },
  {
   "cell_type": "markdown",
   "metadata": {},
   "source": [
    "- toString\n",
    "    - 基数を指定することができる"
   ]
  },
  {
   "cell_type": "code",
   "execution_count": 1,
   "metadata": {
    "tags": []
   },
   "outputs": [
    {
     "name": "stdout",
     "output_type": "stream",
     "text": [
      "10 string\n"
     ]
    }
   ],
   "source": [
    "let num1 = 10\n",
    "console.log(num1.toString(), typeof(num1.toString()))"
   ]
  },
  {
   "cell_type": "code",
   "execution_count": 7,
   "metadata": {
    "tags": []
   },
   "outputs": [
    {
     "name": "stdout",
     "output_type": "stream",
     "text": [
      "1\n",
      "1\n"
     ]
    }
   ],
   "source": [
    "// console.log(1.toString)はエラー\n",
    "console.log(1 .toString());\n",
    "console.log((1).toString());"
   ]
  },
  {
   "cell_type": "code",
   "execution_count": 9,
   "metadata": {
    "tags": []
   },
   "outputs": [
    {
     "name": "stdout",
     "output_type": "stream",
     "text": [
      "10100\n",
      "24\n",
      "10\n"
     ]
    }
   ],
   "source": [
    "console.log(20 .toString(2));\n",
    "console.log(20 .toString(8));\n",
    "console.log(20 .toString(20));"
   ]
  },
  {
   "cell_type": "markdown",
   "metadata": {},
   "source": [
    "- toExponential\n",
    "    - 小数点以下の桁数を指定できる（2への丸め）"
   ]
  },
  {
   "cell_type": "code",
   "execution_count": 8,
   "metadata": {
    "tags": []
   },
   "outputs": [
    {
     "name": "stdout",
     "output_type": "stream",
     "text": [
      "1e+0\n"
     ]
    }
   ],
   "source": [
    "console.log(1 .toExponential());"
   ]
  },
  {
   "cell_type": "code",
   "execution_count": 11,
   "metadata": {
    "tags": []
   },
   "outputs": [
    {
     "name": "stdout",
     "output_type": "stream",
     "text": [
      "1.41e+0\n",
      "3.414e+0\n"
     ]
    }
   ],
   "source": [
    "console.log(1.4142 .toExponential(2));\n",
    "console.log(1.4142 .toExponential(3));"
   ]
  },
  {
   "cell_type": "markdown",
   "metadata": {},
   "source": [
    "- toFixed\n",
    "    - 小数点以下の桁数を指定できる"
   ]
  },
  {
   "cell_type": "code",
   "execution_count": 14,
   "metadata": {
    "tags": []
   },
   "outputs": [
    {
     "name": "stdout",
     "output_type": "stream",
     "text": [
      "14\n",
      "14.14\n"
     ]
    }
   ],
   "source": [
    "console.log(1.4142e1 .toFixed());\n",
    "console.log(1.4142e1 .toFixed(2));"
   ]
  },
  {
   "cell_type": "markdown",
   "metadata": {},
   "source": [
    "- toPrecision\n",
    "    - 有効桁数を指定できる"
   ]
  },
  {
   "cell_type": "code",
   "execution_count": 16,
   "metadata": {
    "tags": []
   },
   "outputs": [
    {
     "name": "stdout",
     "output_type": "stream",
     "text": [
      "14.142\n",
      "14\n",
      "14.14200\n"
     ]
    }
   ],
   "source": [
    "console.log(1.4142e1 .toPrecision());\n",
    "console.log(1.4142e1 .toPrecision(2));\n",
    "console.log(1.4142e1 .toPrecision(7));"
   ]
  },
  {
   "cell_type": "markdown",
   "metadata": {},
   "source": [
    "- toLocaleString"
   ]
  },
  {
   "cell_type": "code",
   "execution_count": 2,
   "metadata": {
    "tags": []
   },
   "outputs": [
    {
     "name": "stdout",
     "output_type": "stream",
     "text": [
      "14,142\n",
      "14,142\n",
      "14.142\n",
      "14 142\n"
     ]
    }
   ],
   "source": [
    "console.log(1.4142e4 .toLocaleString());\n",
    "console.log(1.4142e4 .toLocaleString('ja-JP'));\n",
    "console.log(1.4142e4 .toLocaleString('de-DE'));\n",
    "console.log(1.4142e4 .toLocaleString('ru-RU'));"
   ]
  },
  {
   "cell_type": "markdown",
   "metadata": {},
   "source": [
    "- Number.parseInt\n",
    "    - 基数を指定して文字列を数値に変換できる"
   ]
  },
  {
   "cell_type": "code",
   "execution_count": 21,
   "metadata": {
    "tags": []
   },
   "outputs": [
    {
     "name": "stdout",
     "output_type": "stream",
     "text": [
      "10\n",
      "0\n",
      "0\n",
      "10\n",
      "2\n",
      "16\n"
     ]
    }
   ],
   "source": [
    "console.log(Number.parseInt('10'))\n",
    "console.log(Number.parseInt('0.1'))\n",
    "console.log(Number.parseInt('0.9'))\n",
    "console.log(Number.parseInt('10e3'))\n",
    "console.log(Number.parseInt('10', 2))\n",
    "console.log(Number.parseInt('0x10'))"
   ]
  },
  {
   "cell_type": "markdown",
   "metadata": {},
   "source": [
    "- parseFloat"
   ]
  },
  {
   "cell_type": "code",
   "execution_count": 25,
   "metadata": {
    "tags": []
   },
   "outputs": [
    {
     "name": "stdout",
     "output_type": "stream",
     "text": [
      "10\n",
      "0.1\n",
      "10000\n",
      "10\n",
      "NaN\n",
      "0.101\n",
      "10\n",
      "0\n"
     ]
    }
   ],
   "source": [
    "console.log(Number.parseFloat('10'))\n",
    "console.log(Number.parseFloat('0.1'))\n",
    "console.log(Number.parseFloat('10e3'))\n",
    "console.log(Number.parseFloat('10abc'))\n",
    "console.log(Number.parseFloat('a10'))\n",
    "console.log(Number.parseFloat('0.101', 2))\n",
    "console.log(Number.parseFloat('10', 2))\n",
    "console.log(Number.parseFloat('0x10'))"
   ]
  },
  {
   "cell_type": "markdown",
   "metadata": {},
   "source": [
    "- Nyumber.isNaN\n",
    "    - 引数が数値型でない場合全てfalse"
   ]
  },
  {
   "cell_type": "code",
   "execution_count": 28,
   "metadata": {
    "tags": []
   },
   "outputs": [
    {
     "name": "stdout",
     "output_type": "stream",
     "text": [
      "true\n",
      "true\n",
      "false\n",
      "true\n"
     ]
    }
   ],
   "source": [
    "console.log(Number.isNaN(NaN))\n",
    "console.log(Number.isNaN(0/0))\n",
    "console.log(Number.isNaN(undefined))\n",
    "console.log(Number.isNaN(Number(undefined)))"
   ]
  },
  {
   "cell_type": "markdown",
   "metadata": {},
   "source": [
    "- isNaN\n",
    "    - 引数が数値型でない場合数値型に変換"
   ]
  },
  {
   "cell_type": "code",
   "execution_count": 31,
   "metadata": {
    "tags": []
   },
   "outputs": [
    {
     "name": "stdout",
     "output_type": "stream",
     "text": [
      "true\n",
      "false\n",
      "true\n"
     ]
    }
   ],
   "source": [
    "console.log(isNaN('Hello'));\n",
    "console.log(Number.isNaN('Hello'));\n",
    "console.log(isNaN(undefined));"
   ]
  },
  {
   "cell_type": "markdown",
   "metadata": {},
   "source": [
    "- Number.isFinite"
   ]
  },
  {
   "cell_type": "code",
   "execution_count": 32,
   "metadata": {
    "tags": []
   },
   "outputs": [
    {
     "name": "stdout",
     "output_type": "stream",
     "text": [
      "true\n",
      "false\n",
      "false\n"
     ]
    }
   ],
   "source": [
    "console.log(Number.isFinite(10));\n",
    "console.log(Number.isFinite(Infinity));\n",
    "console.log(Number.isFinite(-Infinity));"
   ]
  },
  {
   "cell_type": "markdown",
   "metadata": {},
   "source": [
    "- isFinite"
   ]
  },
  {
   "cell_type": "code",
   "execution_count": 14,
   "metadata": {
    "tags": []
   },
   "outputs": [
    {
     "name": "stdout",
     "output_type": "stream",
     "text": [
      "10\n",
      "0.1\n",
      "NaN\n",
      "10\n",
      "10\n",
      "NaN\n",
      "NaN\n",
      "0\n",
      "NaN\n"
     ]
    }
   ],
   "source": [
    "console.log(Number('10'))\n",
    "console.log(Number('0.1'))\n",
    "console.log(Number('abc'))\n",
    "console.log(Number(10n))\n",
    "console.log(Number([10]))\n",
    "console.log(Number([10, 20]))\n",
    "console.log(Number(undefined))\n",
    "console.log(Number(null))\n",
    "console.log(Number(NaN))"
   ]
  },
  {
   "cell_type": "markdown",
   "metadata": {},
   "source": [
    "- Number.isInteger"
   ]
  },
  {
   "cell_type": "code",
   "execution_count": 36,
   "metadata": {
    "tags": []
   },
   "outputs": [
    {
     "name": "stdout",
     "output_type": "stream",
     "text": [
      "true\n",
      "true\n",
      "true\n",
      "false\n",
      "false\n",
      "false\n"
     ]
    }
   ],
   "source": [
    "console.log(Number.isInteger(10));\n",
    "console.log(Number.isInteger(10.0));\n",
    "console.log(Number.isInteger(1.0e1));\n",
    "console.log(Number.isInteger('10'));\n",
    "console.log(Number.isInteger(NaN));\n",
    "console.log(Number.isInteger(Infinity));"
   ]
  },
  {
   "cell_type": "markdown",
   "metadata": {},
   "source": [
    "- Number.isSafeInteger\n",
    "    - 正確に IEEE-754 倍精度数として表すことができ、別の値を IEEE-754 倍精度数として表した値と一致することがない値\n",
    "    - 具体的には -(253 - 1) 以上 253 - 1 以下の整数値です (-9007199254740991 以上 9007199254740991 以下の整数値です)"
   ]
  },
  {
   "cell_type": "code",
   "execution_count": 43,
   "metadata": {
    "tags": []
   },
   "outputs": [
    {
     "name": "stdout",
     "output_type": "stream",
     "text": [
      "9007199254740991\n",
      "9007199254740992\n",
      "9007199254740992\n"
     ]
    }
   ],
   "source": [
    "console.log(Number.MAX_SAFE_INTEGER);\n",
    "console.log(Number.MAX_SAFE_INTEGER+1);\n",
    "console.log(Number.MAX_SAFE_INTEGER+2);"
   ]
  },
  {
   "cell_type": "code",
   "execution_count": 40,
   "metadata": {
    "tags": []
   },
   "outputs": [
    {
     "name": "stdout",
     "output_type": "stream",
     "text": [
      "true\n",
      "false\n"
     ]
    }
   ],
   "source": [
    "console.log(Number.isSafeInteger(10));\n",
    "console.log(Number.isSafeInteger(Math.pow(2,53)));"
   ]
  },
  {
   "cell_type": "markdown",
   "metadata": {},
   "source": [
    "- +演算子を使った場合、文字列が含まれると自動的に文字列に変換される\n",
    "- ただしシンボルは例外"
   ]
  },
  {
   "cell_type": "code",
   "execution_count": 12,
   "metadata": {
    "tags": []
   },
   "outputs": [
    {
     "name": "stdout",
     "output_type": "stream",
     "text": [
      "12\n",
      "123\n",
      "123\n",
      "12-3\n",
      "12true4,5nullundefined\n"
     ]
    }
   ],
   "source": [
    "console.log('1' + 2);\n",
    "console.log('1' + 2 + 3);\n",
    "console.log('1' + 2 + 3n);\n",
    "console.log('1' + 2 + -3);\n",
    "console.log('1' + 2 + true + [4, 5] + null + undefined);"
   ]
  },
  {
   "cell_type": "markdown",
   "metadata": {},
   "source": [
    "- -演算子や\\*演算子を使った場合、数値以外の値が数値になる\n",
    "- シンボルは例外"
   ]
  },
  {
   "cell_type": "code",
   "execution_count": 4,
   "metadata": {
    "tags": []
   },
   "outputs": [
    {
     "name": "stdout",
     "output_type": "stream",
     "text": [
      "-1\n",
      "-4\n",
      "NaN\n"
     ]
    }
   ],
   "source": [
    "console.log('1' - 2);\n",
    "console.log('1' - 2 - 3);\n",
    "console.log('1' - 2 - true - [4, 5] - null - undefined);"
   ]
  },
  {
   "cell_type": "markdown",
   "metadata": {},
   "source": [
    "## strictモード\n",
    "- 推奨されない記述方法をエラーにすることができる\n",
    "- プログラムや関数の初めに'use strict'を記述"
   ]
  },
  {
   "cell_type": "code",
   "execution_count": 1,
   "metadata": {
    "tags": []
   },
   "outputs": [],
   "source": [
    "function f(){\n",
    "    'use strict';\n",
    "    let name;\n",
    "    nama = 'Taro'; //未定義の変数への代入なので（本当は）エラーとなる\n",
    "}"
   ]
  },
  {
   "cell_type": "code",
   "execution_count": 2,
   "metadata": {
    "tags": []
   },
   "outputs": [],
   "source": [
    "function f(){\n",
    "    let name;\n",
    "    nama = 'Taro';\n",
    "}"
   ]
  },
  {
   "cell_type": "code",
   "execution_count": 3,
   "metadata": {
    "tags": []
   },
   "outputs": [
    {
     "name": "stdout",
     "output_type": "stream",
     "text": [
      "10\n",
      "30\n",
      "16\n"
     ]
    }
   ],
   "source": [
    "// withの使用は分かりにくく、速度的にも問題があるためstrictモードではできない\n",
    "with(Math){\n",
    "  console.log(min(10,20,30));\n",
    "  console.log(max(10,20,30));\n",
    "  console.log(pow(4, 2));\n",
    "}"
   ]
  },
  {
   "cell_type": "code",
   "execution_count": null,
   "metadata": {},
   "outputs": [],
   "source": []
  }
 ],
 "metadata": {
  "kernelspec": {
   "display_name": "JavaScript (Node.js)",
   "language": "javascript",
   "name": "javascript"
  },
  "language_info": {
   "file_extension": ".js",
   "mimetype": "application/javascript",
   "name": "javascript",
   "version": "16.20.1"
  }
 },
 "nbformat": 4,
 "nbformat_minor": 4
}
