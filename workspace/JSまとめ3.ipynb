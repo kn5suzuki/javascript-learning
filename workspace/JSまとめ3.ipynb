{
 "cells": [
  {
   "cell_type": "code",
   "execution_count": 1,
   "id": "0455f7d7-2a81-4462-86bd-554d8b963667",
   "metadata": {
    "tags": []
   },
   "outputs": [],
   "source": [
    "from http.server import SimpleHTTPRequestHandler, HTTPServer"
   ]
  },
  {
   "cell_type": "code",
   "execution_count": null,
   "id": "2b1c4f77-2480-4f10-bff6-8faee0c582d7",
   "metadata": {
    "tags": []
   },
   "outputs": [
    {
     "name": "stdout",
     "output_type": "stream",
     "text": [
      "サーバはhttp://localhost:3000 で実行中です...\n"
     ]
    },
    {
     "name": "stderr",
     "output_type": "stream",
     "text": [
      "172.23.0.1 - - [17/Sep/2023 18:38:15] \"GET / HTTP/1.1\" 304 -\n",
      "172.23.0.1 - - [17/Sep/2023 18:38:15] code 404, message File not found\n",
      "172.23.0.1 - - [17/Sep/2023 18:38:15] \"GET /index.js HTTP/1.1\" 404 -\n",
      "172.23.0.1 - - [17/Sep/2023 18:38:15] code 404, message File not found\n",
      "172.23.0.1 - - [17/Sep/2023 18:38:15] \"GET /index.js HTTP/1.1\" 404 -\n",
      "172.23.0.1 - - [17/Sep/2023 18:53:03] \"GET / HTTP/1.1\" 200 -\n",
      "172.23.0.1 - - [17/Sep/2023 18:53:03] code 404, message File not found\n",
      "172.23.0.1 - - [17/Sep/2023 18:53:03] \"GET /path/to/three.module.js HTTP/1.1\" 404 -\n",
      "172.23.0.1 - - [17/Sep/2023 18:53:55] \"GET / HTTP/1.1\" 200 -\n",
      "172.23.0.1 - - [17/Sep/2023 18:54:50] \"GET / HTTP/1.1\" 200 -\n"
     ]
    }
   ],
   "source": [
    "class MyHandler(SimpleHTTPRequestHandler):\n",
    "    def do_GET(self):\n",
    "        if self.path == '/':\n",
    "            self.path = '/index.html'\n",
    "        return SimpleHTTPRequestHandler.do_GET(self)\n",
    "\n",
    "host = \"\"\n",
    "port = 3000\n",
    "server = HTTPServer((host, port), MyHandler)\n",
    "print(f\"サーバはhttp://localhost:{port} で実行中です...\")\n",
    "server.serve_forever()"
   ]
  },
  {
   "cell_type": "code",
   "execution_count": null,
   "id": "fd61c76c",
   "metadata": {
    "tags": []
   },
   "outputs": [
    {
     "name": "stdout",
     "output_type": "stream",
     "text": [
      "サーバはhttp://localhost:3000 で実行中です...\n"
     ]
    },
    {
     "name": "stderr",
     "output_type": "stream",
     "text": [
      "172.23.0.1 - - [17/Sep/2023 19:04:44] \"GET / HTTP/1.1\" 200 -\n"
     ]
    }
   ],
   "source": [
    "class D3Handler(SimpleHTTPRequestHandler):\n",
    "    def do_GET(self):\n",
    "        if self.path == '/':\n",
    "            self.path = '/d3/index.html'\n",
    "        return SimpleHTTPRequestHandler.do_GET(self)\n",
    "\n",
    "\n",
    "host = \"\"\n",
    "port = 3000\n",
    "server = HTTPServer((host, port), D3Handler)\n",
    "print(f\"サーバはhttp://localhost:{port} で実行中です...\")\n",
    "server.serve_forever()\n"
   ]
  },
  {
   "cell_type": "code",
   "execution_count": null,
   "id": "edb8bba6-c689-4d3a-ade5-c73afce6ec98",
   "metadata": {},
   "outputs": [],
   "source": [
    "class ThreeHandler(SimpleHTTPRequestHandler):\n",
    "    def do_GET(self):\n",
    "        if self.path == '/':\n",
    "            self.path = '/three/index.html'\n",
    "        return SimpleHTTPRequestHandler.do_GET(self)\n",
    "\n",
    "\n",
    "host = \"\"\n",
    "port = 3000\n",
    "server = HTTPServer((host, port), ThreeHandler)\n",
    "print(f\"サーバはhttp://localhost:{port} で実行中です...\")\n",
    "server.serve_forever()"
   ]
  }
 ],
 "metadata": {
  "kernelspec": {
   "display_name": "Python 3 (ipykernel)",
   "language": "python",
   "name": "python3"
  },
  "language_info": {
   "codemirror_mode": {
    "name": "ipython",
    "version": 3
   },
   "file_extension": ".py",
   "mimetype": "text/x-python",
   "name": "python",
   "nbconvert_exporter": "python",
   "pygments_lexer": "ipython3",
   "version": "3.9.7"
  }
 },
 "nbformat": 4,
 "nbformat_minor": 5
}
